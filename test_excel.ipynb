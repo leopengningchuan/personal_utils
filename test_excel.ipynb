{
 "cells": [
  {
   "cell_type": "code",
   "execution_count": null,
   "id": "319aefb8-2d6c-4ac0-aec1-1c5cff391650",
   "metadata": {},
   "outputs": [],
   "source": [
    "from xlsx_utils import adjust_xlsx_columns"
   ]
  },
  {
   "cell_type": "code",
   "execution_count": null,
   "id": "0982b27a-4f25-4f08-a1cf-da285f5fd5ae",
   "metadata": {},
   "outputs": [],
   "source": [
    "# # import the packages\n",
    "# import os, warnings, logging\n",
    "# from typing import List, Dict, Union, Tuple, Sequence, Optional\n",
    "\n",
    "# import openpyxl\n",
    "\n",
    "# logging.basicConfig(\n",
    "#     level = logging.INFO,\n",
    "#     format = '[%(levelname)s] %(asctime)s — %(message)s',\n",
    "#     datefmt = '%Y-%m-%d %H:%M:%S'\n",
    "# )"
   ]
  },
  {
   "cell_type": "code",
   "execution_count": null,
   "id": "f7d1640d-6811-4353-9c10-c0ec8a940762",
   "metadata": {},
   "outputs": [],
   "source": [
    "adjust_xlsx_columns('test_wb.xlsx', \n",
    "                  'test_ws', \n",
    "                  col_num_format_list = [(['A'], \"0\"), \n",
    "                                    (['B'], '#,##0.00'), \n",
    "                                    (['C'], u'_($* #,##0.00_);_($* (#,##0.00);_($* \"-\"??_);_(@_)'),\n",
    "                                    (['D'], '0.00%')],\n",
    "                  group_col_list = [(\"E\", \"G\", True), (\"I\", \"J\", False)]\n",
    "                     )"
   ]
  },
  {
   "cell_type": "code",
   "execution_count": null,
   "id": "994b48fb-9e08-4692-a929-c345b997f314",
   "metadata": {},
   "outputs": [],
   "source": []
  },
  {
   "cell_type": "code",
   "execution_count": null,
   "id": "f23081d9-73a1-4ce0-980a-13738683788c",
   "metadata": {},
   "outputs": [],
   "source": []
  }
 ],
 "metadata": {
  "kernelspec": {
   "display_name": "Python 3 (ipykernel)",
   "language": "python",
   "name": "python3"
  },
  "language_info": {
   "codemirror_mode": {
    "name": "ipython",
    "version": 3
   },
   "file_extension": ".py",
   "mimetype": "text/x-python",
   "name": "python",
   "nbconvert_exporter": "python",
   "pygments_lexer": "ipython3",
   "version": "3.11.7"
  }
 },
 "nbformat": 4,
 "nbformat_minor": 5
}
