{
 "cells": [
  {
   "cell_type": "code",
   "execution_count": 21,
   "id": "0982b27a-4f25-4f08-a1cf-da285f5fd5ae",
   "metadata": {},
   "outputs": [],
   "source": [
    "# import the packages\n",
    "import openpyxl\n",
    "from typing import List, Dict, Union, Tuple, Sequence, Optional"
   ]
  },
  {
   "cell_type": "code",
   "execution_count": 24,
   "id": "dd755f41-7c3f-426c-8eb2-31fd41f1fc68",
   "metadata": {},
   "outputs": [],
   "source": [
    "# define the function of adjusting the format of the worksheet in the workbook\n",
    "def adjust_excel_columns(excel_path: str,\n",
    "                         worksheet_name: str, \n",
    "                         col_num_format_list: Optional[Sequence[Tuple[Sequence[str], str]]] = None,\n",
    "                         group_col_list: Optional[Sequence[Tuple[str, str, bool]]] = None) -> None:\n",
    "\n",
    "    \"\"\"\n",
    "    Populate a DOCX file table using placeholder keys and a data dictionary.\n",
    "\n",
    "    Parameters:\n",
    "        docx_template_path (str): Path to the excel.\n",
    "        worksheet_name (str): Excel worksheet name.\n",
    "        col_num_format_list (list): list of columns need to be change number format.\n",
    "        group_col_list (list): list of columns need to be grouped.\n",
    "\n",
    "    Returns:\n",
    "        None\n",
    "\n",
    "    Raises:\n",
    "        TypeError: If the input types are invalid.\n",
    "        FileNotFoundError: If the template file does not exist or cannot be opened.\n",
    "    \"\"\"\n",
    "    \n",
    "    # check the errors for file type\n",
    "    if not excel_path.endswith('.xlsx'):\n",
    "        raise TypeError(\"excel_path should be a xlsx file.\")\n",
    "    elif isinstance(col_num_format_list, list) == False:\n",
    "        raise TypeError(\"col_num_format_list should be a list.\")\n",
    "    elif isinstance(group_col_list, list) == False:\n",
    "        raise TypeError(\"group_col_list should be a list.\")\n",
    "    \n",
    "    # open the workbook and worksheet\n",
    "    wb = openpyxl.load_workbook(excel_path)\n",
    "    ws = wb[worksheet_name]\n",
    "\n",
    "    # for all the columns\n",
    "    for col in ws.columns:\n",
    "\n",
    "        # for all the cells under the column\n",
    "        for cell in col:\n",
    "\n",
    "            # adjust the columns based on the column number format\n",
    "            for col_num_format_group in col_num_format_list:\n",
    "                col_num_list, format = col_num_format_group\n",
    "            \n",
    "                if col_num_format and col_letter in col_num_list:\n",
    "                    cell.number_format = format\n",
    "    \n",
    "    # adjust the group columns\n",
    "    if group_col_list:\n",
    "        for grp in group_col_list:\n",
    "            start, end, hidden = grp\n",
    "            ws.column_dimensions.group(start = start, end = end, hidden = hidden)\n",
    "\n",
    "    # save the workbook\n",
    "    wb.save(wb_name)"
   ]
  },
  {
   "cell_type": "code",
   "execution_count": 25,
   "id": "f7d1640d-6811-4353-9c10-c0ec8a940762",
   "metadata": {},
   "outputs": [],
   "source": [
    "adjust_wb_columns('test_wb.xlsx', \n",
    "                  'test_ws', \n",
    "                  col_num_format = [(['A'], \"0\"), \n",
    "                                    (['B'], '#,##0.00'), \n",
    "                                    (['C'], u'_($* #,##0.00_);_($* (#,##0.00);_($* \"-\"??_);_(@_)'),\n",
    "                                    (['D'], '0.00%')],\n",
    "                  group_cols = [(\"E\", \"G\", True), (\"I\", \"J\", False)]\n",
    "                     )"
   ]
  },
  {
   "cell_type": "code",
   "execution_count": null,
   "id": "994b48fb-9e08-4692-a929-c345b997f314",
   "metadata": {},
   "outputs": [],
   "source": []
  },
  {
   "cell_type": "code",
   "execution_count": 10,
   "id": "b6c88bda-29f6-42c5-9ea0-bfe26ab94e06",
   "metadata": {},
   "outputs": [],
   "source": []
  },
  {
   "cell_type": "code",
   "execution_count": null,
   "id": "c866a553-c323-4cc7-8397-c349e7eb3eb3",
   "metadata": {},
   "outputs": [],
   "source": []
  }
 ],
 "metadata": {
  "kernelspec": {
   "display_name": "Python 3 (ipykernel)",
   "language": "python",
   "name": "python3"
  },
  "language_info": {
   "codemirror_mode": {
    "name": "ipython",
    "version": 3
   },
   "file_extension": ".py",
   "mimetype": "text/x-python",
   "name": "python",
   "nbconvert_exporter": "python",
   "pygments_lexer": "ipython3",
   "version": "3.11.7"
  }
 },
 "nbformat": 4,
 "nbformat_minor": 5
}
